{
 "cells": [
  {
   "cell_type": "markdown",
   "metadata": {},
   "source": [
    "# Part Three:\n",
    "### Create a Travel Itinerary with a Corresponding Map"
   ]
  },
  {
   "cell_type": "code",
   "execution_count": 31,
   "metadata": {},
   "outputs": [],
   "source": [
    "# Dependencies and Setup\n",
    "import pandas as pd\n",
    "import requests\n",
    "import gmaps\n",
    "import gmaps.datasets\n",
    "\n",
    "# Import the API key.\n",
    "from config import g_key\n",
    "\n",
    "# Configure gmaps to use your Google API key.\n",
    "gmaps.configure(api_key=g_key)"
   ]
  },
  {
   "cell_type": "code",
   "execution_count": 3,
   "metadata": {},
   "outputs": [],
   "source": [
    "# Files to load\n",
    "vacation_data_to_load = \"/Users/markeia/OneDrive/Data Analytics Bootcamp/Python Module/World_Weather_Analysis/WeatherPy_vacation.csv\""
   ]
  },
  {
   "cell_type": "code",
   "execution_count": 4,
   "metadata": {},
   "outputs": [],
   "source": [
    "# Read the city data file and store it in a pandas DataFrame.\n",
    "vacation_data_df = pd.read_csv(vacation_data_to_load)"
   ]
  },
  {
   "cell_type": "code",
   "execution_count": 5,
   "metadata": {},
   "outputs": [
    {
     "data": {
      "text/html": [
       "<div>\n",
       "<style scoped>\n",
       "    .dataframe tbody tr th:only-of-type {\n",
       "        vertical-align: middle;\n",
       "    }\n",
       "\n",
       "    .dataframe tbody tr th {\n",
       "        vertical-align: top;\n",
       "    }\n",
       "\n",
       "    .dataframe thead th {\n",
       "        text-align: right;\n",
       "    }\n",
       "</style>\n",
       "<table border=\"1\" class=\"dataframe\">\n",
       "  <thead>\n",
       "    <tr style=\"text-align: right;\">\n",
       "      <th></th>\n",
       "      <th>City_ID</th>\n",
       "      <th>City</th>\n",
       "      <th>Country</th>\n",
       "      <th>Max Temp</th>\n",
       "      <th>Current Description</th>\n",
       "      <th>Lat</th>\n",
       "      <th>Lng</th>\n",
       "      <th>Hotel Name</th>\n",
       "    </tr>\n",
       "  </thead>\n",
       "  <tbody>\n",
       "    <tr>\n",
       "      <th>0</th>\n",
       "      <td>0</td>\n",
       "      <td>Albany</td>\n",
       "      <td>US</td>\n",
       "      <td>78.01</td>\n",
       "      <td>few clouds</td>\n",
       "      <td>42.60</td>\n",
       "      <td>-73.97</td>\n",
       "      <td>NaN</td>\n",
       "    </tr>\n",
       "    <tr>\n",
       "      <th>1</th>\n",
       "      <td>3</td>\n",
       "      <td>Rikitea</td>\n",
       "      <td>PF</td>\n",
       "      <td>70.56</td>\n",
       "      <td>scattered clouds</td>\n",
       "      <td>-23.12</td>\n",
       "      <td>-134.97</td>\n",
       "      <td>Pension Maro'i</td>\n",
       "    </tr>\n",
       "    <tr>\n",
       "      <th>2</th>\n",
       "      <td>8</td>\n",
       "      <td>Meadow Lake</td>\n",
       "      <td>US</td>\n",
       "      <td>82.40</td>\n",
       "      <td>few clouds</td>\n",
       "      <td>34.80</td>\n",
       "      <td>-106.54</td>\n",
       "      <td>JKL Inc. R.V Park and Storage</td>\n",
       "    </tr>\n",
       "    <tr>\n",
       "      <th>3</th>\n",
       "      <td>10</td>\n",
       "      <td>Nishihara</td>\n",
       "      <td>JP</td>\n",
       "      <td>87.80</td>\n",
       "      <td>broken clouds</td>\n",
       "      <td>26.18</td>\n",
       "      <td>127.76</td>\n",
       "      <td>Minshuku Agaihama</td>\n",
       "    </tr>\n",
       "    <tr>\n",
       "      <th>4</th>\n",
       "      <td>16</td>\n",
       "      <td>Tombouctou</td>\n",
       "      <td>ML</td>\n",
       "      <td>89.35</td>\n",
       "      <td>clear sky</td>\n",
       "      <td>20.00</td>\n",
       "      <td>-3.00</td>\n",
       "      <td>NaN</td>\n",
       "    </tr>\n",
       "    <tr>\n",
       "      <th>...</th>\n",
       "      <td>...</td>\n",
       "      <td>...</td>\n",
       "      <td>...</td>\n",
       "      <td>...</td>\n",
       "      <td>...</td>\n",
       "      <td>...</td>\n",
       "      <td>...</td>\n",
       "      <td>...</td>\n",
       "    </tr>\n",
       "    <tr>\n",
       "      <th>218</th>\n",
       "      <td>566</td>\n",
       "      <td>Road Town</td>\n",
       "      <td>VG</td>\n",
       "      <td>82.99</td>\n",
       "      <td>scattered clouds</td>\n",
       "      <td>18.42</td>\n",
       "      <td>-64.62</td>\n",
       "      <td>ZINGARA 76ft Catamaran, full crew-all included</td>\n",
       "    </tr>\n",
       "    <tr>\n",
       "      <th>219</th>\n",
       "      <td>570</td>\n",
       "      <td>Vila Do Maio</td>\n",
       "      <td>CV</td>\n",
       "      <td>78.80</td>\n",
       "      <td>scattered clouds</td>\n",
       "      <td>15.13</td>\n",
       "      <td>-23.22</td>\n",
       "      <td>Residence 'I Delfini'</td>\n",
       "    </tr>\n",
       "    <tr>\n",
       "      <th>220</th>\n",
       "      <td>571</td>\n",
       "      <td>Khandyga</td>\n",
       "      <td>RU</td>\n",
       "      <td>83.10</td>\n",
       "      <td>few clouds</td>\n",
       "      <td>62.67</td>\n",
       "      <td>135.60</td>\n",
       "      <td>Apel'sin</td>\n",
       "    </tr>\n",
       "    <tr>\n",
       "      <th>221</th>\n",
       "      <td>572</td>\n",
       "      <td>Progreso</td>\n",
       "      <td>MX</td>\n",
       "      <td>81.00</td>\n",
       "      <td>broken clouds</td>\n",
       "      <td>21.28</td>\n",
       "      <td>-89.67</td>\n",
       "      <td>Playa Linda Hotel</td>\n",
       "    </tr>\n",
       "    <tr>\n",
       "      <th>222</th>\n",
       "      <td>574</td>\n",
       "      <td>Savannah Bight</td>\n",
       "      <td>HN</td>\n",
       "      <td>83.25</td>\n",
       "      <td>scattered clouds</td>\n",
       "      <td>16.45</td>\n",
       "      <td>-85.85</td>\n",
       "      <td>Villa on Dunbar Rock</td>\n",
       "    </tr>\n",
       "  </tbody>\n",
       "</table>\n",
       "<p>223 rows × 8 columns</p>\n",
       "</div>"
      ],
      "text/plain": [
       "     City_ID            City Country  Max Temp Current Description    Lat  \\\n",
       "0          0          Albany      US     78.01          few clouds  42.60   \n",
       "1          3         Rikitea      PF     70.56    scattered clouds -23.12   \n",
       "2          8     Meadow Lake      US     82.40          few clouds  34.80   \n",
       "3         10       Nishihara      JP     87.80       broken clouds  26.18   \n",
       "4         16      Tombouctou      ML     89.35           clear sky  20.00   \n",
       "..       ...             ...     ...       ...                 ...    ...   \n",
       "218      566       Road Town      VG     82.99    scattered clouds  18.42   \n",
       "219      570    Vila Do Maio      CV     78.80    scattered clouds  15.13   \n",
       "220      571        Khandyga      RU     83.10          few clouds  62.67   \n",
       "221      572        Progreso      MX     81.00       broken clouds  21.28   \n",
       "222      574  Savannah Bight      HN     83.25    scattered clouds  16.45   \n",
       "\n",
       "        Lng                                      Hotel Name  \n",
       "0    -73.97                                             NaN  \n",
       "1   -134.97                                  Pension Maro'i  \n",
       "2   -106.54                   JKL Inc. R.V Park and Storage  \n",
       "3    127.76                               Minshuku Agaihama  \n",
       "4     -3.00                                             NaN  \n",
       "..      ...                                             ...  \n",
       "218  -64.62  ZINGARA 76ft Catamaran, full crew-all included  \n",
       "219  -23.22                           Residence 'I Delfini'  \n",
       "220  135.60                                        Apel'sin  \n",
       "221  -89.67                               Playa Linda Hotel  \n",
       "222  -85.85                            Villa on Dunbar Rock  \n",
       "\n",
       "[223 rows x 8 columns]"
      ]
     },
     "execution_count": 5,
     "metadata": {},
     "output_type": "execute_result"
    }
   ],
   "source": [
    "vacation_data_df"
   ]
  },
  {
   "cell_type": "code",
   "execution_count": 19,
   "metadata": {},
   "outputs": [],
   "source": [
    "info_box_template = \"\"\"\n",
    "<dl>\n",
    "<dt>Hotel Name</dt><dd>{Hotel Name}</dd>\n",
    "<dt>City</dt><dd>{City}</dd>\n",
    "<dt>Country</dt><dd>{Country}</dd>\n",
    "<dt>Max Temp</dt><dd>{Max Temp} °F</dd>\n",
    "</dl>\n",
    "\"\"\"\n",
    "\n",
    "# Store the DataFrame Row.\n",
    "hotel_info = [info_box_template.format(**row) for index, row in vacation_data_df.iterrows()]"
   ]
  },
  {
   "cell_type": "code",
   "execution_count": 25,
   "metadata": {},
   "outputs": [
    {
     "data": {
      "application/vnd.jupyter.widget-view+json": {
       "model_id": "237f0eebd6e54ead8845e3e8278e7be7",
       "version_major": 2,
       "version_minor": 0
      },
      "text/plain": [
       "Figure(layout=FigureLayout(height='420px'))"
      ]
     },
     "metadata": {},
     "output_type": "display_data"
    }
   ],
   "source": [
    "locations = vacation_data_df[[\"Lat\", \"Lng\"]]\n",
    "marker_layer = gmaps.marker_layer(locations, info_box_content=hotel_info)\n",
    "fig = gmaps.figure(center=(30.0, 31.0), zoom_level=1.5)\n",
    "fig.add_layer(marker_layer)\n",
    "\n",
    "# Call the figure to plot the data.\n",
    "fig"
   ]
  },
  {
   "cell_type": "code",
   "execution_count": 28,
   "metadata": {},
   "outputs": [],
   "source": [
    "vacation_start = vacation_data_df.loc[vacation_data_df[\"City\"]==\"Mantua\"]\n",
    "vacation_end = vacation_data_df.loc[vacation_data_df[\"City\"]==\"Siderno\"]\n",
    "vacation_stop_1 = vacation_data_df.loc[vacation_data_df[\"City\"]==\"Orbetello\"]\n",
    "vacation_stop_2 = vacation_data_df.loc[vacation_data_df[\"City\"]==\"Melfi\"]"
   ]
  },
  {
   "cell_type": "code",
   "execution_count": 29,
   "metadata": {},
   "outputs": [],
   "source": [
    "start = vacation_start[\"Lat\"].values[0], vacation_start[\"Lng\"].values[0]\n",
    "end = vacation_end[\"Lat\"].values[0], vacation_end[\"Lng\"].values[0]\n",
    "stop_1 = vacation_stop_1[\"Lat\"].values[0], vacation_stop_1[\"Lng\"].values[0]\n",
    "stop_2 = vacation_stop_2[\"Lat\"].values[0], vacation_stop_2[\"Lng\"].values[0]"
   ]
  },
  {
   "cell_type": "code",
   "execution_count": 53,
   "metadata": {},
   "outputs": [
    {
     "data": {
      "application/vnd.jupyter.widget-view+json": {
       "model_id": "52c1196d8ed64c6b908b5ff1399d8d0d",
       "version_major": 2,
       "version_minor": 0
      },
      "text/plain": [
       "Figure(layout=FigureLayout(height='420px'))"
      ]
     },
     "metadata": {},
     "output_type": "display_data"
    }
   ],
   "source": [
    "fig = gmaps.figure()\n",
    "vacation_itinerary = gmaps.directions_layer(start,end, waypoints=[stop_1,stop_2],travel_mode=\"DRIVING\")\n",
    "fig.add_layer(vacation_itinerary)\n",
    "\n",
    "# Call the figure to plot the data.\n",
    "fig"
   ]
  },
  {
   "cell_type": "code",
   "execution_count": 44,
   "metadata": {},
   "outputs": [],
   "source": [
    "vacation_itinerary_df = pd.concat([vacation_start,vacation_end,vacation_stop_1,vacation_stop_2])"
   ]
  },
  {
   "cell_type": "code",
   "execution_count": 45,
   "metadata": {},
   "outputs": [
    {
     "data": {
      "text/html": [
       "<div>\n",
       "<style scoped>\n",
       "    .dataframe tbody tr th:only-of-type {\n",
       "        vertical-align: middle;\n",
       "    }\n",
       "\n",
       "    .dataframe tbody tr th {\n",
       "        vertical-align: top;\n",
       "    }\n",
       "\n",
       "    .dataframe thead th {\n",
       "        text-align: right;\n",
       "    }\n",
       "</style>\n",
       "<table border=\"1\" class=\"dataframe\">\n",
       "  <thead>\n",
       "    <tr style=\"text-align: right;\">\n",
       "      <th></th>\n",
       "      <th>City_ID</th>\n",
       "      <th>City</th>\n",
       "      <th>Country</th>\n",
       "      <th>Max Temp</th>\n",
       "      <th>Current Description</th>\n",
       "      <th>Lat</th>\n",
       "      <th>Lng</th>\n",
       "      <th>Hotel Name</th>\n",
       "    </tr>\n",
       "  </thead>\n",
       "  <tbody>\n",
       "    <tr>\n",
       "      <th>138</th>\n",
       "      <td>379</td>\n",
       "      <td>Mantua</td>\n",
       "      <td>IT</td>\n",
       "      <td>72.00</td>\n",
       "      <td>clear sky</td>\n",
       "      <td>45.17</td>\n",
       "      <td>10.78</td>\n",
       "      <td>Hotel la Favorita</td>\n",
       "    </tr>\n",
       "    <tr>\n",
       "      <th>136</th>\n",
       "      <td>372</td>\n",
       "      <td>Siderno</td>\n",
       "      <td>IT</td>\n",
       "      <td>73.99</td>\n",
       "      <td>few clouds</td>\n",
       "      <td>38.28</td>\n",
       "      <td>16.30</td>\n",
       "      <td>Grand Hotel President</td>\n",
       "    </tr>\n",
       "    <tr>\n",
       "      <th>72</th>\n",
       "      <td>198</td>\n",
       "      <td>Orbetello</td>\n",
       "      <td>IT</td>\n",
       "      <td>72.00</td>\n",
       "      <td>clear sky</td>\n",
       "      <td>42.44</td>\n",
       "      <td>11.22</td>\n",
       "      <td>Argentario Golf Resort &amp; Spa</td>\n",
       "    </tr>\n",
       "    <tr>\n",
       "      <th>40</th>\n",
       "      <td>125</td>\n",
       "      <td>Melfi</td>\n",
       "      <td>IT</td>\n",
       "      <td>75.20</td>\n",
       "      <td>scattered clouds</td>\n",
       "      <td>41.00</td>\n",
       "      <td>15.65</td>\n",
       "      <td>HOTEL TERME DI RAPOLLA</td>\n",
       "    </tr>\n",
       "  </tbody>\n",
       "</table>\n",
       "</div>"
      ],
      "text/plain": [
       "     City_ID       City Country  Max Temp Current Description    Lat    Lng  \\\n",
       "138      379     Mantua      IT     72.00           clear sky  45.17  10.78   \n",
       "136      372    Siderno      IT     73.99          few clouds  38.28  16.30   \n",
       "72       198  Orbetello      IT     72.00           clear sky  42.44  11.22   \n",
       "40       125      Melfi      IT     75.20    scattered clouds  41.00  15.65   \n",
       "\n",
       "                       Hotel Name  \n",
       "138             Hotel la Favorita  \n",
       "136         Grand Hotel President  \n",
       "72   Argentario Golf Resort & Spa  \n",
       "40         HOTEL TERME DI RAPOLLA  "
      ]
     },
     "execution_count": 45,
     "metadata": {},
     "output_type": "execute_result"
    }
   ],
   "source": [
    "vacation_itinerary_df"
   ]
  },
  {
   "cell_type": "code",
   "execution_count": 46,
   "metadata": {},
   "outputs": [
    {
     "data": {
      "text/html": [
       "<div>\n",
       "<style scoped>\n",
       "    .dataframe tbody tr th:only-of-type {\n",
       "        vertical-align: middle;\n",
       "    }\n",
       "\n",
       "    .dataframe tbody tr th {\n",
       "        vertical-align: top;\n",
       "    }\n",
       "\n",
       "    .dataframe thead th {\n",
       "        text-align: right;\n",
       "    }\n",
       "</style>\n",
       "<table border=\"1\" class=\"dataframe\">\n",
       "  <thead>\n",
       "    <tr style=\"text-align: right;\">\n",
       "      <th></th>\n",
       "      <th>City_ID</th>\n",
       "      <th>City</th>\n",
       "      <th>Country</th>\n",
       "      <th>Max Temp</th>\n",
       "      <th>Current Description</th>\n",
       "      <th>Lat</th>\n",
       "      <th>Lng</th>\n",
       "      <th>Hotel Name</th>\n",
       "    </tr>\n",
       "  </thead>\n",
       "  <tbody>\n",
       "    <tr>\n",
       "      <th>0</th>\n",
       "      <td>379</td>\n",
       "      <td>Mantua</td>\n",
       "      <td>IT</td>\n",
       "      <td>72.00</td>\n",
       "      <td>clear sky</td>\n",
       "      <td>45.17</td>\n",
       "      <td>10.78</td>\n",
       "      <td>Hotel la Favorita</td>\n",
       "    </tr>\n",
       "    <tr>\n",
       "      <th>1</th>\n",
       "      <td>372</td>\n",
       "      <td>Siderno</td>\n",
       "      <td>IT</td>\n",
       "      <td>73.99</td>\n",
       "      <td>few clouds</td>\n",
       "      <td>38.28</td>\n",
       "      <td>16.30</td>\n",
       "      <td>Grand Hotel President</td>\n",
       "    </tr>\n",
       "    <tr>\n",
       "      <th>2</th>\n",
       "      <td>198</td>\n",
       "      <td>Orbetello</td>\n",
       "      <td>IT</td>\n",
       "      <td>72.00</td>\n",
       "      <td>clear sky</td>\n",
       "      <td>42.44</td>\n",
       "      <td>11.22</td>\n",
       "      <td>Argentario Golf Resort &amp; Spa</td>\n",
       "    </tr>\n",
       "    <tr>\n",
       "      <th>3</th>\n",
       "      <td>125</td>\n",
       "      <td>Melfi</td>\n",
       "      <td>IT</td>\n",
       "      <td>75.20</td>\n",
       "      <td>scattered clouds</td>\n",
       "      <td>41.00</td>\n",
       "      <td>15.65</td>\n",
       "      <td>HOTEL TERME DI RAPOLLA</td>\n",
       "    </tr>\n",
       "  </tbody>\n",
       "</table>\n",
       "</div>"
      ],
      "text/plain": [
       "   City_ID       City Country  Max Temp Current Description    Lat    Lng  \\\n",
       "0      379     Mantua      IT     72.00           clear sky  45.17  10.78   \n",
       "1      372    Siderno      IT     73.99          few clouds  38.28  16.30   \n",
       "2      198  Orbetello      IT     72.00           clear sky  42.44  11.22   \n",
       "3      125      Melfi      IT     75.20    scattered clouds  41.00  15.65   \n",
       "\n",
       "                     Hotel Name  \n",
       "0             Hotel la Favorita  \n",
       "1         Grand Hotel President  \n",
       "2  Argentario Golf Resort & Spa  \n",
       "3        HOTEL TERME DI RAPOLLA  "
      ]
     },
     "execution_count": 46,
     "metadata": {},
     "output_type": "execute_result"
    }
   ],
   "source": [
    "vacation_itinerary_df.reset_index(drop=True)"
   ]
  },
  {
   "cell_type": "code",
   "execution_count": 51,
   "metadata": {},
   "outputs": [],
   "source": [
    "info_box_template = \"\"\"\n",
    "<dl>\n",
    "<dt>Hotel Name</dt><dd>{Hotel Name}</dd>\n",
    "<dt>City</dt><dd>{City}</dd>\n",
    "<dt>Country</dt><dd>{Country}</dd>\n",
    "<dt>Max Temp</dt><dd>{Max Temp} °F</dd>\n",
    "</dl>\n",
    "\"\"\"\n",
    "\n",
    "# Store the DataFrame Row.\n",
    "travel_info = [info_box_template.format(**row) for index, row in vacation_itinerary_df.iterrows()]\n",
    "locations = vacation_itinerary_df[[\"Lat\", \"Lng\"]]"
   ]
  },
  {
   "cell_type": "code",
   "execution_count": 52,
   "metadata": {},
   "outputs": [
    {
     "data": {
      "application/vnd.jupyter.widget-view+json": {
       "model_id": "4d415509c45947db87f840ad86c1c7fe",
       "version_major": 2,
       "version_minor": 0
      },
      "text/plain": [
       "Figure(layout=FigureLayout(height='420px'))"
      ]
     },
     "metadata": {},
     "output_type": "display_data"
    }
   ],
   "source": [
    "marker_layer = gmaps.marker_layer(locations, info_box_content=travel_info)\n",
    "fig = gmaps.figure()\n",
    "fig.add_layer(marker_layer)\n",
    "\n",
    "# Call the figure to plot the data.\n",
    "fig"
   ]
  },
  {
   "cell_type": "code",
   "execution_count": null,
   "metadata": {},
   "outputs": [],
   "source": []
  }
 ],
 "metadata": {
  "kernelspec": {
   "display_name": "PythonData",
   "language": "python",
   "name": "pythondata"
  },
  "language_info": {
   "codemirror_mode": {
    "name": "ipython",
    "version": 3
   },
   "file_extension": ".py",
   "mimetype": "text/x-python",
   "name": "python",
   "nbconvert_exporter": "python",
   "pygments_lexer": "ipython3",
   "version": "3.7.6"
  }
 },
 "nbformat": 4,
 "nbformat_minor": 4
}
